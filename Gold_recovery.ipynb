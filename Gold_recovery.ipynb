{
  "nbformat": 4,
  "nbformat_minor": 0,
  "metadata": {
    "kernelspec": {
      "display_name": "Python 3",
      "language": "python",
      "name": "python3"
    },
    "language_info": {
      "codemirror_mode": {
        "name": "ipython",
        "version": 3
      },
      "file_extension": ".py",
      "mimetype": "text/x-python",
      "name": "python",
      "nbconvert_exporter": "python",
      "pygments_lexer": "ipython3",
      "version": "3.7.6"
    },
    "colab": {
      "name": "Gold recovery.ipynb",
      "provenance": []
    }
  },
  "cells": [
    {
      "cell_type": "markdown",
      "metadata": {
        "id": "WUB1mFG_f2Z2"
      },
      "source": [
        "1. Prepare the data"
      ]
    },
    {
      "cell_type": "markdown",
      "metadata": {
        "id": "5Ax-AmYef2Z3"
      },
      "source": [
        "1.1. Open the files and look into the data."
      ]
    },
    {
      "cell_type": "code",
      "metadata": {
        "id": "LdDz6V8Af2Z3",
        "outputId": "0545443d-63d1-49ed-9a6d-9a373660f0e2"
      },
      "source": [
        "import pandas as pd\n",
        "import numpy as np\n",
        "import matplotlib.pyplot as plt\n",
        "from sklearn.linear_model import LinearRegression\n",
        "from sklearn.tree import DecisionTreeRegressor\n",
        "from sklearn.ensemble import RandomForestRegressor\n",
        "from sklearn.preprocessing import StandardScaler\n",
        "from sklearn.model_selection import cross_val_score\n",
        "from sklearn.metrics import r2_score\n",
        "from sklearn.metrics import make_scorer\n",
        "\n",
        "\n",
        "data_train=pd.read_csv('/datasets/gold_recovery_train.csv')\n",
        "data_test=pd.read_csv('/datasets/gold_recovery_test.csv')\n",
        "data_full=pd.read_csv('/datasets/gold_recovery_full.csv')\n",
        "\n",
        "#print(data_train.head(10))\n",
        "#print(data_test.head(10))\n",
        "print(data_full.head(10))\n",
        "print(data_full.columns)\n"
      ],
      "execution_count": null,
      "outputs": [
        {
          "output_type": "stream",
          "text": [
            "                  date  final.output.concentrate_ag  \\\n",
            "0  2016-01-15 00:00:00                     6.055403   \n",
            "1  2016-01-15 01:00:00                     6.029369   \n",
            "2  2016-01-15 02:00:00                     6.055926   \n",
            "3  2016-01-15 03:00:00                     6.047977   \n",
            "4  2016-01-15 04:00:00                     6.148599   \n",
            "5  2016-01-15 05:00:00                     6.482968   \n",
            "6  2016-01-15 06:00:00                     6.533849   \n",
            "7  2016-01-15 07:00:00                     6.130823   \n",
            "8  2016-01-15 08:00:00                     5.834140   \n",
            "9  2016-01-15 09:00:00                     5.687063   \n",
            "\n",
            "   final.output.concentrate_pb  final.output.concentrate_sol  \\\n",
            "0                     9.889648                      5.507324   \n",
            "1                     9.968944                      5.257781   \n",
            "2                    10.213995                      5.383759   \n",
            "3                     9.977019                      4.858634   \n",
            "4                    10.142511                      4.939416   \n",
            "5                    10.049416                      5.480257   \n",
            "6                    10.058141                      4.569100   \n",
            "7                     9.935481                      4.389813   \n",
            "8                    10.071156                      4.876389   \n",
            "9                     9.980404                      5.282514   \n",
            "\n",
            "   final.output.concentrate_au  final.output.recovery  final.output.tail_ag  \\\n",
            "0                    42.192020              70.541216             10.411962   \n",
            "1                    42.701629              69.266198             10.462676   \n",
            "2                    42.657501              68.116445             10.507046   \n",
            "3                    42.689819              68.347543             10.422762   \n",
            "4                    42.774141              66.927016             10.360302   \n",
            "5                    41.633678              69.465816             10.182708   \n",
            "6                    41.995316              69.300835             10.304598   \n",
            "7                    42.452727              70.230976             10.443288   \n",
            "8                    43.404078              69.688595             10.420140   \n",
            "9                    43.235220              70.279619             10.487013   \n",
            "\n",
            "   final.output.tail_pb  final.output.tail_sol  final.output.tail_au  ...  \\\n",
            "0              0.895447              16.904297              2.143149  ...   \n",
            "1              0.927452              16.634514              2.224930  ...   \n",
            "2              0.953716              16.208849              2.257889  ...   \n",
            "3              0.883763              16.532835              2.146849  ...   \n",
            "4              0.792826              16.525686              2.055292  ...   \n",
            "5              0.664118              16.999638              1.918586  ...   \n",
            "6              0.807342              16.723575              2.058913  ...   \n",
            "7              0.949346              16.689959              2.143437  ...   \n",
            "8              1.065453              17.201948              2.209881  ...   \n",
            "9              1.159805              17.483979              2.209593  ...   \n",
            "\n",
            "   secondary_cleaner.state.floatbank4_a_air  \\\n",
            "0                                 14.016835   \n",
            "1                                 13.992281   \n",
            "2                                 14.015015   \n",
            "3                                 14.036510   \n",
            "4                                 14.027298   \n",
            "5                                 13.938497   \n",
            "6                                 14.046819   \n",
            "7                                 13.974691   \n",
            "8                                 13.964030   \n",
            "9                                 13.989632   \n",
            "\n",
            "   secondary_cleaner.state.floatbank4_a_level  \\\n",
            "0                                 -502.488007   \n",
            "1                                 -505.503262   \n",
            "2                                 -502.520901   \n",
            "3                                 -500.857308   \n",
            "4                                 -499.838632   \n",
            "5                                 -500.970168   \n",
            "6                                 -500.971133   \n",
            "7                                 -501.819696   \n",
            "8                                 -504.252450   \n",
            "9                                 -503.195299   \n",
            "\n",
            "   secondary_cleaner.state.floatbank4_b_air  \\\n",
            "0                                 12.099931   \n",
            "1                                 11.950531   \n",
            "2                                 11.912783   \n",
            "3                                 11.999550   \n",
            "4                                 11.953070   \n",
            "5                                 11.883350   \n",
            "6                                 12.091543   \n",
            "7                                 12.101324   \n",
            "8                                 12.060738   \n",
            "9                                 12.052233   \n",
            "\n",
            "   secondary_cleaner.state.floatbank4_b_level  \\\n",
            "0                                 -504.715942   \n",
            "1                                 -501.331529   \n",
            "2                                 -501.133383   \n",
            "3                                 -501.193686   \n",
            "4                                 -501.053894   \n",
            "5                                 -500.395298   \n",
            "6                                 -500.501426   \n",
            "7                                 -500.583446   \n",
            "8                                 -501.174549   \n",
            "9                                 -500.928547   \n",
            "\n",
            "   secondary_cleaner.state.floatbank5_a_air  \\\n",
            "0                                  9.925633   \n",
            "1                                 10.039245   \n",
            "2                                 10.070913   \n",
            "3                                  9.970366   \n",
            "4                                  9.925709   \n",
            "5                                 10.054147   \n",
            "6                                 10.003247   \n",
            "7                                  9.873169   \n",
            "8                                 10.033838   \n",
            "9                                  9.962574   \n",
            "\n",
            "   secondary_cleaner.state.floatbank5_a_level  \\\n",
            "0                                 -498.310211   \n",
            "1                                 -500.169983   \n",
            "2                                 -500.129135   \n",
            "3                                 -499.201640   \n",
            "4                                 -501.686727   \n",
            "5                                 -496.374715   \n",
            "6                                 -497.083180   \n",
            "7                                 -499.171928   \n",
            "8                                 -501.178133   \n",
            "9                                 -502.986357   \n",
            "\n",
            "   secondary_cleaner.state.floatbank5_b_air  \\\n",
            "0                                  8.079666   \n",
            "1                                  7.984757   \n",
            "2                                  8.013877   \n",
            "3                                  7.977324   \n",
            "4                                  7.894242   \n",
            "5                                  7.965083   \n",
            "6                                  8.010890   \n",
            "7                                  7.993381   \n",
            "8                                  7.881604   \n",
            "9                                  7.979219   \n",
            "\n",
            "   secondary_cleaner.state.floatbank5_b_level  \\\n",
            "0                                 -500.470978   \n",
            "1                                 -500.582168   \n",
            "2                                 -500.517572   \n",
            "3                                 -500.255908   \n",
            "4                                 -500.356035   \n",
            "5                                 -499.364752   \n",
            "6                                 -500.002423   \n",
            "7                                 -499.794518   \n",
            "8                                 -499.729434   \n",
            "9                                 -500.146835   \n",
            "\n",
            "   secondary_cleaner.state.floatbank6_a_air  \\\n",
            "0                                 14.151341   \n",
            "1                                 13.998353   \n",
            "2                                 14.028663   \n",
            "3                                 14.005551   \n",
            "4                                 13.996647   \n",
            "5                                 14.017067   \n",
            "6                                 14.029649   \n",
            "7                                 13.984498   \n",
            "8                                 13.967135   \n",
            "9                                 13.981614   \n",
            "\n",
            "   secondary_cleaner.state.floatbank6_a_level  \n",
            "0                                 -605.841980  \n",
            "1                                 -599.787184  \n",
            "2                                 -601.427363  \n",
            "3                                 -599.996129  \n",
            "4                                 -601.496691  \n",
            "5                                 -599.707915  \n",
            "6                                 -600.905470  \n",
            "7                                 -600.411070  \n",
            "8                                 -599.061188  \n",
            "9                                 -598.070855  \n",
            "\n",
            "[10 rows x 87 columns]\n",
            "Index(['date', 'final.output.concentrate_ag', 'final.output.concentrate_pb',\n",
            "       'final.output.concentrate_sol', 'final.output.concentrate_au',\n",
            "       'final.output.recovery', 'final.output.tail_ag', 'final.output.tail_pb',\n",
            "       'final.output.tail_sol', 'final.output.tail_au',\n",
            "       'primary_cleaner.input.sulfate', 'primary_cleaner.input.depressant',\n",
            "       'primary_cleaner.input.feed_size', 'primary_cleaner.input.xanthate',\n",
            "       'primary_cleaner.output.concentrate_ag',\n",
            "       'primary_cleaner.output.concentrate_pb',\n",
            "       'primary_cleaner.output.concentrate_sol',\n",
            "       'primary_cleaner.output.concentrate_au',\n",
            "       'primary_cleaner.output.tail_ag', 'primary_cleaner.output.tail_pb',\n",
            "       'primary_cleaner.output.tail_sol', 'primary_cleaner.output.tail_au',\n",
            "       'primary_cleaner.state.floatbank8_a_air',\n",
            "       'primary_cleaner.state.floatbank8_a_level',\n",
            "       'primary_cleaner.state.floatbank8_b_air',\n",
            "       'primary_cleaner.state.floatbank8_b_level',\n",
            "       'primary_cleaner.state.floatbank8_c_air',\n",
            "       'primary_cleaner.state.floatbank8_c_level',\n",
            "       'primary_cleaner.state.floatbank8_d_air',\n",
            "       'primary_cleaner.state.floatbank8_d_level',\n",
            "       'rougher.calculation.sulfate_to_au_concentrate',\n",
            "       'rougher.calculation.floatbank10_sulfate_to_au_feed',\n",
            "       'rougher.calculation.floatbank11_sulfate_to_au_feed',\n",
            "       'rougher.calculation.au_pb_ratio', 'rougher.input.feed_ag',\n",
            "       'rougher.input.feed_pb', 'rougher.input.feed_rate',\n",
            "       'rougher.input.feed_size', 'rougher.input.feed_sol',\n",
            "       'rougher.input.feed_au', 'rougher.input.floatbank10_sulfate',\n",
            "       'rougher.input.floatbank10_xanthate',\n",
            "       'rougher.input.floatbank11_sulfate',\n",
            "       'rougher.input.floatbank11_xanthate', 'rougher.output.concentrate_ag',\n",
            "       'rougher.output.concentrate_pb', 'rougher.output.concentrate_sol',\n",
            "       'rougher.output.concentrate_au', 'rougher.output.recovery',\n",
            "       'rougher.output.tail_ag', 'rougher.output.tail_pb',\n",
            "       'rougher.output.tail_sol', 'rougher.output.tail_au',\n",
            "       'rougher.state.floatbank10_a_air', 'rougher.state.floatbank10_a_level',\n",
            "       'rougher.state.floatbank10_b_air', 'rougher.state.floatbank10_b_level',\n",
            "       'rougher.state.floatbank10_c_air', 'rougher.state.floatbank10_c_level',\n",
            "       'rougher.state.floatbank10_d_air', 'rougher.state.floatbank10_d_level',\n",
            "       'rougher.state.floatbank10_e_air', 'rougher.state.floatbank10_e_level',\n",
            "       'rougher.state.floatbank10_f_air', 'rougher.state.floatbank10_f_level',\n",
            "       'secondary_cleaner.output.tail_ag', 'secondary_cleaner.output.tail_pb',\n",
            "       'secondary_cleaner.output.tail_sol', 'secondary_cleaner.output.tail_au',\n",
            "       'secondary_cleaner.state.floatbank2_a_air',\n",
            "       'secondary_cleaner.state.floatbank2_a_level',\n",
            "       'secondary_cleaner.state.floatbank2_b_air',\n",
            "       'secondary_cleaner.state.floatbank2_b_level',\n",
            "       'secondary_cleaner.state.floatbank3_a_air',\n",
            "       'secondary_cleaner.state.floatbank3_a_level',\n",
            "       'secondary_cleaner.state.floatbank3_b_air',\n",
            "       'secondary_cleaner.state.floatbank3_b_level',\n",
            "       'secondary_cleaner.state.floatbank4_a_air',\n",
            "       'secondary_cleaner.state.floatbank4_a_level',\n",
            "       'secondary_cleaner.state.floatbank4_b_air',\n",
            "       'secondary_cleaner.state.floatbank4_b_level',\n",
            "       'secondary_cleaner.state.floatbank5_a_air',\n",
            "       'secondary_cleaner.state.floatbank5_a_level',\n",
            "       'secondary_cleaner.state.floatbank5_b_air',\n",
            "       'secondary_cleaner.state.floatbank5_b_level',\n",
            "       'secondary_cleaner.state.floatbank6_a_air',\n",
            "       'secondary_cleaner.state.floatbank6_a_level'],\n",
            "      dtype='object')\n"
          ],
          "name": "stdout"
        }
      ]
    },
    {
      "cell_type": "markdown",
      "metadata": {
        "id": "5K5VquvNf2Z5"
      },
      "source": [
        "1.2. Check that recovery is calculated correctly. Using the training set, calculate recovery for the rougher.output.recovery feature. Find the MAE between your calculations and the feature values. Provide findings."
      ]
    },
    {
      "cell_type": "code",
      "metadata": {
        "id": "UwueBQLmf2Z5",
        "outputId": "a8ed9380-6ab1-4ca7-934a-c297c2d16d25"
      },
      "source": [
        "#filling NaN values with ffill method for training set\n",
        "\n",
        "#print(data_train.columns)\n",
        "#print(data_train.info())\n",
        "\n",
        "data_train_new=data_train.dropna()\n",
        "\n",
        "r_target=data_train_new['rougher.output.recovery']\n",
        "C=data_train_new['rougher.output.concentrate_au']\n",
        "F=data_train_new['rougher.input.feed_au']\n",
        "T=data_train_new['rougher.output.tail_au']\n",
        "\n",
        "data_train_new['recovery_cal']=((C*(F-T))/(F*(C-T)))*100\n",
        "\n",
        "mae=np.sum(np.abs(data_train_new['recovery_cal']-r_target))/len(r_target)\n",
        "print(mae)\n"
      ],
      "execution_count": null,
      "outputs": [
        {
          "output_type": "stream",
          "text": [
            "9.555596961987514e-15\n"
          ],
          "name": "stdout"
        },
        {
          "output_type": "stream",
          "text": [
            "/opt/conda/lib/python3.7/site-packages/ipykernel_launcher.py:13: SettingWithCopyWarning: \n",
            "A value is trying to be set on a copy of a slice from a DataFrame.\n",
            "Try using .loc[row_indexer,col_indexer] = value instead\n",
            "\n",
            "See the caveats in the documentation: http://pandas.pydata.org/pandas-docs/stable/user_guide/indexing.html#returning-a-view-versus-a-copy\n",
            "  del sys.path[0]\n"
          ],
          "name": "stderr"
        }
      ]
    },
    {
      "cell_type": "markdown",
      "metadata": {
        "id": "jMBEnnOcf2Z5"
      },
      "source": [
        "Mean absolute error between the calculated recovery and target recovery is very small which implies that the both the recovery values are similar and recovery has been calculated correctly."
      ]
    },
    {
      "cell_type": "markdown",
      "metadata": {
        "id": "_zEX-Hwcf2Z6"
      },
      "source": [
        "1.3. Analyze the features not available in the test set. What are these parameters? What is their type?"
      ]
    },
    {
      "cell_type": "code",
      "metadata": {
        "id": "NUgrmnutf2Z6",
        "outputId": "0c2c86f0-222e-42da-e7f7-268d6af37ea1"
      },
      "source": [
        "train=data_train.head()\n",
        "test=data_test.head()\n",
        "\n",
        "test_mis_col=[]\n",
        "for i in list(train):\n",
        "    if i not in list(test):\n",
        "        test_mis_col.append(i)\n",
        "\n",
        "print(test_mis_col)"
      ],
      "execution_count": null,
      "outputs": [
        {
          "output_type": "stream",
          "text": [
            "['final.output.concentrate_ag', 'final.output.concentrate_pb', 'final.output.concentrate_sol', 'final.output.concentrate_au', 'final.output.recovery', 'final.output.tail_ag', 'final.output.tail_pb', 'final.output.tail_sol', 'final.output.tail_au', 'primary_cleaner.output.concentrate_ag', 'primary_cleaner.output.concentrate_pb', 'primary_cleaner.output.concentrate_sol', 'primary_cleaner.output.concentrate_au', 'primary_cleaner.output.tail_ag', 'primary_cleaner.output.tail_pb', 'primary_cleaner.output.tail_sol', 'primary_cleaner.output.tail_au', 'rougher.calculation.sulfate_to_au_concentrate', 'rougher.calculation.floatbank10_sulfate_to_au_feed', 'rougher.calculation.floatbank11_sulfate_to_au_feed', 'rougher.calculation.au_pb_ratio', 'rougher.output.concentrate_ag', 'rougher.output.concentrate_pb', 'rougher.output.concentrate_sol', 'rougher.output.concentrate_au', 'rougher.output.recovery', 'rougher.output.tail_ag', 'rougher.output.tail_pb', 'rougher.output.tail_sol', 'rougher.output.tail_au', 'secondary_cleaner.output.tail_ag', 'secondary_cleaner.output.tail_pb', 'secondary_cleaner.output.tail_sol', 'secondary_cleaner.output.tail_au']\n"
          ],
          "name": "stdout"
        }
      ]
    },
    {
      "cell_type": "markdown",
      "metadata": {
        "id": "wYg_U6tvf2Z7"
      },
      "source": [
        "Majorly, Test set is missig all the output columns for rougher, primay filtration and final concentrate."
      ]
    },
    {
      "cell_type": "markdown",
      "metadata": {
        "id": "QFogRbzwf2Z7"
      },
      "source": [
        "1.4. Perform data preprocessing."
      ]
    },
    {
      "cell_type": "code",
      "metadata": {
        "id": "uvXRqUyEf2Z7",
        "outputId": "db1618f0-0c5f-4fa4-f9f2-51097c90f665"
      },
      "source": [
        "#Changing date column to datetime type in all data sets\n",
        "\n",
        "data_full['date']=pd.to_datetime(data_full['date'], format='%Y-%m-%dT%H:%M:%S')\n",
        "data_test['date']=pd.to_datetime(data_test['date'], format='%Y-%m-%dT%H:%M:%S')\n",
        "data_train['date']=pd.to_datetime(data_train['date'], format='%Y-%m-%dT%H:%M:%S')\n",
        "\n",
        "#Adding 2 target columns from full data to test data\n",
        "data_full_sel=data_full.loc[:,['date','rougher.output.recovery','final.output.recovery',\n",
        "                               'final.output.concentrate_ag','final.output.concentrate_pb', \n",
        "                               'final.output.concentrate_sol','final.output.concentrate_au', \n",
        "                               'rougher.output.concentrate_ag','rougher.output.concentrate_pb', \n",
        "                               'rougher.output.concentrate_sol','rougher.output.concentrate_au']]\n",
        "\n",
        "\n",
        "#data_test_sel=data_test.merge(data_full_sel, on='date')\n",
        "\n",
        "\n",
        "#Droping columns from train dataset which are missing in test dataset\n",
        "\n",
        "data_train_sel=data_train\n",
        "\n",
        "for i in list(data_train_sel):\n",
        "    if i not in list(data_test_sel):\n",
        "        data_train_sel=data_train_sel.drop([i],axis=1)\n",
        "\n",
        "data_train_sel=data_train_sel.fillna(method='ffill')\n",
        "data_test_sel=data_test_sel.fillna(method='ffill')\n",
        "print(data_test_sel.info())\n",
        "print(data_train_sel.info())\n"
      ],
      "execution_count": null,
      "outputs": [
        {
          "output_type": "stream",
          "text": [
            "<class 'pandas.core.frame.DataFrame'>\n",
            "Int64Index: 5856 entries, 0 to 5855\n",
            "Data columns (total 63 columns):\n",
            "date                                          5856 non-null datetime64[ns]\n",
            "primary_cleaner.input.sulfate                 5856 non-null float64\n",
            "primary_cleaner.input.depressant              5856 non-null float64\n",
            "primary_cleaner.input.feed_size               5856 non-null float64\n",
            "primary_cleaner.input.xanthate                5856 non-null float64\n",
            "primary_cleaner.state.floatbank8_a_air        5856 non-null float64\n",
            "primary_cleaner.state.floatbank8_a_level      5856 non-null float64\n",
            "primary_cleaner.state.floatbank8_b_air        5856 non-null float64\n",
            "primary_cleaner.state.floatbank8_b_level      5856 non-null float64\n",
            "primary_cleaner.state.floatbank8_c_air        5856 non-null float64\n",
            "primary_cleaner.state.floatbank8_c_level      5856 non-null float64\n",
            "primary_cleaner.state.floatbank8_d_air        5856 non-null float64\n",
            "primary_cleaner.state.floatbank8_d_level      5856 non-null float64\n",
            "rougher.input.feed_ag                         5856 non-null float64\n",
            "rougher.input.feed_pb                         5856 non-null float64\n",
            "rougher.input.feed_rate                       5856 non-null float64\n",
            "rougher.input.feed_size                       5856 non-null float64\n",
            "rougher.input.feed_sol                        5856 non-null float64\n",
            "rougher.input.feed_au                         5856 non-null float64\n",
            "rougher.input.floatbank10_sulfate             5856 non-null float64\n",
            "rougher.input.floatbank10_xanthate            5856 non-null float64\n",
            "rougher.input.floatbank11_sulfate             5856 non-null float64\n",
            "rougher.input.floatbank11_xanthate            5856 non-null float64\n",
            "rougher.state.floatbank10_a_air               5856 non-null float64\n",
            "rougher.state.floatbank10_a_level             5856 non-null float64\n",
            "rougher.state.floatbank10_b_air               5856 non-null float64\n",
            "rougher.state.floatbank10_b_level             5856 non-null float64\n",
            "rougher.state.floatbank10_c_air               5856 non-null float64\n",
            "rougher.state.floatbank10_c_level             5856 non-null float64\n",
            "rougher.state.floatbank10_d_air               5856 non-null float64\n",
            "rougher.state.floatbank10_d_level             5856 non-null float64\n",
            "rougher.state.floatbank10_e_air               5856 non-null float64\n",
            "rougher.state.floatbank10_e_level             5856 non-null float64\n",
            "rougher.state.floatbank10_f_air               5856 non-null float64\n",
            "rougher.state.floatbank10_f_level             5856 non-null float64\n",
            "secondary_cleaner.state.floatbank2_a_air      5856 non-null float64\n",
            "secondary_cleaner.state.floatbank2_a_level    5856 non-null float64\n",
            "secondary_cleaner.state.floatbank2_b_air      5856 non-null float64\n",
            "secondary_cleaner.state.floatbank2_b_level    5856 non-null float64\n",
            "secondary_cleaner.state.floatbank3_a_air      5856 non-null float64\n",
            "secondary_cleaner.state.floatbank3_a_level    5856 non-null float64\n",
            "secondary_cleaner.state.floatbank3_b_air      5856 non-null float64\n",
            "secondary_cleaner.state.floatbank3_b_level    5856 non-null float64\n",
            "secondary_cleaner.state.floatbank4_a_air      5856 non-null float64\n",
            "secondary_cleaner.state.floatbank4_a_level    5856 non-null float64\n",
            "secondary_cleaner.state.floatbank4_b_air      5856 non-null float64\n",
            "secondary_cleaner.state.floatbank4_b_level    5856 non-null float64\n",
            "secondary_cleaner.state.floatbank5_a_air      5856 non-null float64\n",
            "secondary_cleaner.state.floatbank5_a_level    5856 non-null float64\n",
            "secondary_cleaner.state.floatbank5_b_air      5856 non-null float64\n",
            "secondary_cleaner.state.floatbank5_b_level    5856 non-null float64\n",
            "secondary_cleaner.state.floatbank6_a_air      5856 non-null float64\n",
            "secondary_cleaner.state.floatbank6_a_level    5856 non-null float64\n",
            "rougher.output.recovery                       5856 non-null float64\n",
            "final.output.recovery                         5856 non-null float64\n",
            "final.output.concentrate_ag                   5856 non-null float64\n",
            "final.output.concentrate_pb                   5856 non-null float64\n",
            "final.output.concentrate_sol                  5856 non-null float64\n",
            "final.output.concentrate_au                   5856 non-null float64\n",
            "rougher.output.concentrate_ag                 5856 non-null float64\n",
            "rougher.output.concentrate_pb                 5856 non-null float64\n",
            "rougher.output.concentrate_sol                5856 non-null float64\n",
            "rougher.output.concentrate_au                 5856 non-null float64\n",
            "dtypes: datetime64[ns](1), float64(62)\n",
            "memory usage: 2.9 MB\n",
            "None\n",
            "<class 'pandas.core.frame.DataFrame'>\n",
            "RangeIndex: 16860 entries, 0 to 16859\n",
            "Data columns (total 63 columns):\n",
            "date                                          16860 non-null datetime64[ns]\n",
            "final.output.concentrate_ag                   16860 non-null float64\n",
            "final.output.concentrate_pb                   16860 non-null float64\n",
            "final.output.concentrate_sol                  16860 non-null float64\n",
            "final.output.concentrate_au                   16860 non-null float64\n",
            "final.output.recovery                         16860 non-null float64\n",
            "primary_cleaner.input.sulfate                 16860 non-null float64\n",
            "primary_cleaner.input.depressant              16860 non-null float64\n",
            "primary_cleaner.input.feed_size               16860 non-null float64\n",
            "primary_cleaner.input.xanthate                16860 non-null float64\n",
            "primary_cleaner.state.floatbank8_a_air        16860 non-null float64\n",
            "primary_cleaner.state.floatbank8_a_level      16860 non-null float64\n",
            "primary_cleaner.state.floatbank8_b_air        16860 non-null float64\n",
            "primary_cleaner.state.floatbank8_b_level      16860 non-null float64\n",
            "primary_cleaner.state.floatbank8_c_air        16860 non-null float64\n",
            "primary_cleaner.state.floatbank8_c_level      16860 non-null float64\n",
            "primary_cleaner.state.floatbank8_d_air        16860 non-null float64\n",
            "primary_cleaner.state.floatbank8_d_level      16860 non-null float64\n",
            "rougher.input.feed_ag                         16860 non-null float64\n",
            "rougher.input.feed_pb                         16860 non-null float64\n",
            "rougher.input.feed_rate                       16860 non-null float64\n",
            "rougher.input.feed_size                       16860 non-null float64\n",
            "rougher.input.feed_sol                        16860 non-null float64\n",
            "rougher.input.feed_au                         16860 non-null float64\n",
            "rougher.input.floatbank10_sulfate             16860 non-null float64\n",
            "rougher.input.floatbank10_xanthate            16860 non-null float64\n",
            "rougher.input.floatbank11_sulfate             16860 non-null float64\n",
            "rougher.input.floatbank11_xanthate            16860 non-null float64\n",
            "rougher.output.concentrate_ag                 16860 non-null float64\n",
            "rougher.output.concentrate_pb                 16860 non-null float64\n",
            "rougher.output.concentrate_sol                16860 non-null float64\n",
            "rougher.output.concentrate_au                 16860 non-null float64\n",
            "rougher.output.recovery                       16860 non-null float64\n",
            "rougher.state.floatbank10_a_air               16860 non-null float64\n",
            "rougher.state.floatbank10_a_level             16860 non-null float64\n",
            "rougher.state.floatbank10_b_air               16860 non-null float64\n",
            "rougher.state.floatbank10_b_level             16860 non-null float64\n",
            "rougher.state.floatbank10_c_air               16860 non-null float64\n",
            "rougher.state.floatbank10_c_level             16860 non-null float64\n",
            "rougher.state.floatbank10_d_air               16860 non-null float64\n",
            "rougher.state.floatbank10_d_level             16860 non-null float64\n",
            "rougher.state.floatbank10_e_air               16860 non-null float64\n",
            "rougher.state.floatbank10_e_level             16860 non-null float64\n",
            "rougher.state.floatbank10_f_air               16860 non-null float64\n",
            "rougher.state.floatbank10_f_level             16860 non-null float64\n",
            "secondary_cleaner.state.floatbank2_a_air      16860 non-null float64\n",
            "secondary_cleaner.state.floatbank2_a_level    16860 non-null float64\n",
            "secondary_cleaner.state.floatbank2_b_air      16860 non-null float64\n",
            "secondary_cleaner.state.floatbank2_b_level    16860 non-null float64\n",
            "secondary_cleaner.state.floatbank3_a_air      16860 non-null float64\n",
            "secondary_cleaner.state.floatbank3_a_level    16860 non-null float64\n",
            "secondary_cleaner.state.floatbank3_b_air      16860 non-null float64\n",
            "secondary_cleaner.state.floatbank3_b_level    16860 non-null float64\n",
            "secondary_cleaner.state.floatbank4_a_air      16860 non-null float64\n",
            "secondary_cleaner.state.floatbank4_a_level    16860 non-null float64\n",
            "secondary_cleaner.state.floatbank4_b_air      16860 non-null float64\n",
            "secondary_cleaner.state.floatbank4_b_level    16860 non-null float64\n",
            "secondary_cleaner.state.floatbank5_a_air      16860 non-null float64\n",
            "secondary_cleaner.state.floatbank5_a_level    16860 non-null float64\n",
            "secondary_cleaner.state.floatbank5_b_air      16860 non-null float64\n",
            "secondary_cleaner.state.floatbank5_b_level    16860 non-null float64\n",
            "secondary_cleaner.state.floatbank6_a_air      16860 non-null float64\n",
            "secondary_cleaner.state.floatbank6_a_level    16860 non-null float64\n",
            "dtypes: datetime64[ns](1), float64(62)\n",
            "memory usage: 8.1 MB\n",
            "None\n"
          ],
          "name": "stdout"
        }
      ]
    },
    {
      "cell_type": "markdown",
      "metadata": {
        "id": "R1qymHKJf2Z8"
      },
      "source": [
        "2. Analyze the data"
      ]
    },
    {
      "cell_type": "markdown",
      "metadata": {
        "id": "HthDKBAcf2Z8"
      },
      "source": [
        "2.1. Take note of how the concentrations of metals (Au, Ag, Pb) change depending on the purification stage."
      ]
    },
    {
      "cell_type": "code",
      "metadata": {
        "id": "WoBHVdwlf2Z8",
        "outputId": "452d3a72-fbdf-4172-911d-efe462a3f527"
      },
      "source": [
        "metals_au=['rougher.input.feed_au','final.output.concentrate_au','primary_cleaner.output.concentrate_au', 'rougher.output.concentrate_au']\n",
        "\n",
        "kwargs_au=dict(alpha=0.8)\n",
        "for i in list(data_full):\n",
        "    if i in list(metals_au):\n",
        "        plt.hist(data_full[i],**kwargs_au, label=i)\n",
        "        plt.legend()"
      ],
      "execution_count": null,
      "outputs": [
        {
          "output_type": "display_data",
          "data": {
            "image/png": "[encoded data removed]",
            "text/plain": [
              "<Figure size 432x288 with 1 Axes>"
            ]
          },
          "metadata": {
            "tags": [],
            "needs_background": "light"
          }
        }
      ]
    },
    {
      "cell_type": "code",
      "metadata": {
        "id": "oxbWiNGqf2Z9",
        "outputId": "31b15403-cad1-4f06-c882-9c7fee687ef7"
      },
      "source": [
        "metals_pb=['rougher.input.feed_pb','final.output.concentrate_pb','primary_cleaner.output.concentrate_pb', 'rougher.output.concentrate_pb']\n",
        "\n",
        "kwargs_pb=dict(alpha=0.8)\n",
        "for j in list(data_full):\n",
        "    if j in list(metals_pb):\n",
        "        plt.hist(data_full[j],**kwargs_pb, label=j)\n",
        "        plt.legend()\n",
        "    "
      ],
      "execution_count": null,
      "outputs": [
        {
          "output_type": "display_data",
          "data": {
            "image/png": "[encoded data removed]",
            "text/plain": [
              "<Figure size 432x288 with 1 Axes>"
            ]
          },
          "metadata": {
            "tags": [],
            "needs_background": "light"
          }
        }
      ]
    },
    {
      "cell_type": "code",
      "metadata": {
        "id": "2SRQEkNvf2Z9",
        "outputId": "fd771414-9f1e-43b9-f487-bea8aba0cefe"
      },
      "source": [
        "metals_ag=['rougher.input.feed_ag','final.output.concentrate_ag','primary_cleaner.output.concentrate_ag', 'rougher.output.concentrate_ag']\n",
        "\n",
        "kwargs_ag=dict(alpha=0.8)\n",
        "for k in list(data_full):\n",
        "    if k in list(metals_ag):\n",
        "        plt.hist(data_full[k],**kwargs_ag, label=k)\n",
        "        plt.legend()"
      ],
      "execution_count": null,
      "outputs": [
        {
          "output_type": "display_data",
          "data": {
            "image/png": "[encoded data removed]",
            "text/plain": [
              "<Figure size 432x288 with 1 Axes>"
            ]
          },
          "metadata": {
            "tags": [],
            "needs_background": "light"
          }
        }
      ]
    },
    {
      "cell_type": "markdown",
      "metadata": {
        "id": "sQiBK8z1f2Z-"
      },
      "source": [
        "1. Concentration of AU is highest in the final stage and the overlap between stages is very less\n",
        "2. For Pb, the metal value is lowest in the final output concentrate\n",
        "3. For Ag, the concentration is high in both rougher output and final putput. The concentration in rougher output varies from 0 to >20."
      ]
    },
    {
      "cell_type": "markdown",
      "metadata": {
        "id": "wxvi1HLWf2Z_"
      },
      "source": [
        "2.2. Compare the feed particle size distributions in the training set and in the test set. If the distributions vary significantly, the model evaluation will be incorrect."
      ]
    },
    {
      "cell_type": "code",
      "metadata": {
        "id": "JJpoiYOAf2Z_",
        "outputId": "b3482ff7-77fb-40cf-e4e1-7184397dd6df"
      },
      "source": [
        "kwargs_ps=dict(alpha=0.5, density=True, stacked=True)\n",
        "\n",
        "plt.hist(data_test_sel['rougher.input.feed_size'], **kwargs_ps, label='test_feed_size')\n",
        "plt.hist(data_train_sel['rougher.input.feed_size'], **kwargs_ps, label='train_feed_size')\n",
        "plt.legend()\n",
        "plt.xlim(0,350)"
      ],
      "execution_count": null,
      "outputs": [
        {
          "output_type": "execute_result",
          "data": {
            "text/plain": [
              "(0, 350)"
            ]
          },
          "metadata": {
            "tags": []
          },
          "execution_count": 74
        },
        {
          "output_type": "display_data",
          "data": {
            "image/png": "[encoded data removed]",
            "text/plain": [
              "<Figure size 432x288 with 1 Axes>"
            ]
          },
          "metadata": {
            "tags": [],
            "needs_background": "light"
          }
        }
      ]
    },
    {
      "cell_type": "markdown",
      "metadata": {
        "id": "Q9xkrDMSf2Z_"
      },
      "source": [
        "Since train dataset has very large no of observations compared to test dataset, hence normalized the plot. The distribtuion shows that feed size for both test and train dataset is similar."
      ]
    },
    {
      "cell_type": "markdown",
      "metadata": {
        "id": "UF2eH5Bsf2aA"
      },
      "source": [
        "2.3. Consider the total concentrations of all substances at different stages: raw feed, rougher concentrate, and final concentrate. Do you notice any abnormal values in the total distribution? If you do, is it worth removing such values from both samples? Describe the findings and eliminate anomalies."
      ]
    },
    {
      "cell_type": "code",
      "metadata": {
        "id": "lNUKRBu4f2aA",
        "outputId": "7ee897c0-8521-4925-d69c-9199da17f7c9"
      },
      "source": [
        "#Identifying outliers from full data\n",
        "\n",
        "input_feed=['rougher.input.feed_ag','rougher.input.feed_pb','rougher.input.feed_sol','rougher.input.feed_au']\n",
        "data_full[input_feed].sum(1).hist(alpha=0.5)\n",
        "\n",
        "rougher_output=['rougher.output.concentrate_ag','rougher.output.concentrate_pb','rougher.output.concentrate_sol','rougher.output.concentrate_au']\n",
        "data_full[rougher_output].sum(1).hist(alpha=0.5)\n",
        "\n",
        "final_output=['final.output.concentrate_ag', 'final.output.concentrate_pb','final.output.concentrate_sol','final.output.concentrate_au']\n",
        "data_full[final_output].sum(1).hist(alpha=0.5)\n"
      ],
      "execution_count": null,
      "outputs": [
        {
          "output_type": "execute_result",
          "data": {
            "text/plain": [
              "<matplotlib.axes._subplots.AxesSubplot at 0x7f5607a545d0>"
            ]
          },
          "metadata": {
            "tags": []
          },
          "execution_count": 7
        },
        {
          "output_type": "display_data",
          "data": {
            "image/png": "[encoded data removed]",
            "text/plain": [
              "<Figure size 432x288 with 1 Axes>"
            ]
          },
          "metadata": {
            "tags": [],
            "needs_background": "light"
          }
        }
      ]
    },
    {
      "cell_type": "markdown",
      "metadata": {
        "id": "zOyV-jZOf2aA"
      },
      "source": [
        "There are below 10 values which are outliers."
      ]
    },
    {
      "cell_type": "code",
      "metadata": {
        "id": "oMamTc3-f2aB",
        "outputId": "cff062e4-2def-4801-f87d-62530cd74c9b"
      },
      "source": [
        "#removing outliers from train and test set\n",
        "\n",
        "data_train_sel['input_feed_tot']=data_train_sel[input_feed].sum(1)\n",
        "data_train_sel['rougher_output_tot']=data_train_sel[rougher_output].sum(1)\n",
        "data_train_sel['final_output_tot']=data_train_sel[final_output].sum(1)  \n",
        "\n",
        "data_train_final=data_train_sel.query('input_feed_tot>10')\n",
        "data_train_final=data_train_final.query('rougher_output_tot>10')\n",
        "data_train_final=data_train_final.query('final_output_tot>10')\n",
        "\n",
        "data_test_sel['input_feed_tot']=data_test_sel[input_feed].sum(1)\n",
        "data_test_sel['rougher_output_tot']=data_test_sel[rougher_output].sum(1)\n",
        "data_test_sel['final_output_tot']=data_test_sel[final_output].sum(1)  \n",
        "\n",
        "data_test_final=data_test_sel.query('input_feed_tot>10')\n",
        "data_test_final=data_test_final.query('rougher_output_tot>10')\n",
        "data_test_final=data_test_final.query('final_output_tot>10')\n",
        "\n",
        "\n",
        "print(data_train_final.info())\n",
        "print(data_test_final.info())"
      ],
      "execution_count": null,
      "outputs": [
        {
          "output_type": "stream",
          "text": [
            "<class 'pandas.core.frame.DataFrame'>\n",
            "Int64Index: 14550 entries, 0 to 16859\n",
            "Data columns (total 66 columns):\n",
            "date                                          14550 non-null datetime64[ns]\n",
            "final.output.concentrate_ag                   14550 non-null float64\n",
            "final.output.concentrate_pb                   14550 non-null float64\n",
            "final.output.concentrate_sol                  14550 non-null float64\n",
            "final.output.concentrate_au                   14550 non-null float64\n",
            "final.output.recovery                         14550 non-null float64\n",
            "primary_cleaner.input.sulfate                 14550 non-null float64\n",
            "primary_cleaner.input.depressant              14550 non-null float64\n",
            "primary_cleaner.input.feed_size               14550 non-null float64\n",
            "primary_cleaner.input.xanthate                14550 non-null float64\n",
            "primary_cleaner.state.floatbank8_a_air        14550 non-null float64\n",
            "primary_cleaner.state.floatbank8_a_level      14550 non-null float64\n",
            "primary_cleaner.state.floatbank8_b_air        14550 non-null float64\n",
            "primary_cleaner.state.floatbank8_b_level      14550 non-null float64\n",
            "primary_cleaner.state.floatbank8_c_air        14550 non-null float64\n",
            "primary_cleaner.state.floatbank8_c_level      14550 non-null float64\n",
            "primary_cleaner.state.floatbank8_d_air        14550 non-null float64\n",
            "primary_cleaner.state.floatbank8_d_level      14550 non-null float64\n",
            "rougher.input.feed_ag                         14550 non-null float64\n",
            "rougher.input.feed_pb                         14550 non-null float64\n",
            "rougher.input.feed_rate                       14550 non-null float64\n",
            "rougher.input.feed_size                       14550 non-null float64\n",
            "rougher.input.feed_sol                        14550 non-null float64\n",
            "rougher.input.feed_au                         14550 non-null float64\n",
            "rougher.input.floatbank10_sulfate             14550 non-null float64\n",
            "rougher.input.floatbank10_xanthate            14550 non-null float64\n",
            "rougher.input.floatbank11_sulfate             14550 non-null float64\n",
            "rougher.input.floatbank11_xanthate            14550 non-null float64\n",
            "rougher.output.concentrate_ag                 14550 non-null float64\n",
            "rougher.output.concentrate_pb                 14550 non-null float64\n",
            "rougher.output.concentrate_sol                14550 non-null float64\n",
            "rougher.output.concentrate_au                 14550 non-null float64\n",
            "rougher.output.recovery                       14550 non-null float64\n",
            "rougher.state.floatbank10_a_air               14550 non-null float64\n",
            "rougher.state.floatbank10_a_level             14550 non-null float64\n",
            "rougher.state.floatbank10_b_air               14550 non-null float64\n",
            "rougher.state.floatbank10_b_level             14550 non-null float64\n",
            "rougher.state.floatbank10_c_air               14550 non-null float64\n",
            "rougher.state.floatbank10_c_level             14550 non-null float64\n",
            "rougher.state.floatbank10_d_air               14550 non-null float64\n",
            "rougher.state.floatbank10_d_level             14550 non-null float64\n",
            "rougher.state.floatbank10_e_air               14550 non-null float64\n",
            "rougher.state.floatbank10_e_level             14550 non-null float64\n",
            "rougher.state.floatbank10_f_air               14550 non-null float64\n",
            "rougher.state.floatbank10_f_level             14550 non-null float64\n",
            "secondary_cleaner.state.floatbank2_a_air      14550 non-null float64\n",
            "secondary_cleaner.state.floatbank2_a_level    14550 non-null float64\n",
            "secondary_cleaner.state.floatbank2_b_air      14550 non-null float64\n",
            "secondary_cleaner.state.floatbank2_b_level    14550 non-null float64\n",
            "secondary_cleaner.state.floatbank3_a_air      14550 non-null float64\n",
            "secondary_cleaner.state.floatbank3_a_level    14550 non-null float64\n",
            "secondary_cleaner.state.floatbank3_b_air      14550 non-null float64\n",
            "secondary_cleaner.state.floatbank3_b_level    14550 non-null float64\n",
            "secondary_cleaner.state.floatbank4_a_air      14550 non-null float64\n",
            "secondary_cleaner.state.floatbank4_a_level    14550 non-null float64\n",
            "secondary_cleaner.state.floatbank4_b_air      14550 non-null float64\n",
            "secondary_cleaner.state.floatbank4_b_level    14550 non-null float64\n",
            "secondary_cleaner.state.floatbank5_a_air      14550 non-null float64\n",
            "secondary_cleaner.state.floatbank5_a_level    14550 non-null float64\n",
            "secondary_cleaner.state.floatbank5_b_air      14550 non-null float64\n",
            "secondary_cleaner.state.floatbank5_b_level    14550 non-null float64\n",
            "secondary_cleaner.state.floatbank6_a_air      14550 non-null float64\n",
            "secondary_cleaner.state.floatbank6_a_level    14550 non-null float64\n",
            "input_feed_tot                                14550 non-null float64\n",
            "rougher_output_tot                            14550 non-null float64\n",
            "final_output_tot                              14550 non-null float64\n",
            "dtypes: datetime64[ns](1), float64(65)\n",
            "memory usage: 7.4 MB\n",
            "None\n",
            "<class 'pandas.core.frame.DataFrame'>\n",
            "Int64Index: 5270 entries, 0 to 5855\n",
            "Data columns (total 66 columns):\n",
            "date                                          5270 non-null datetime64[ns]\n",
            "primary_cleaner.input.sulfate                 5270 non-null float64\n",
            "primary_cleaner.input.depressant              5270 non-null float64\n",
            "primary_cleaner.input.feed_size               5270 non-null float64\n",
            "primary_cleaner.input.xanthate                5270 non-null float64\n",
            "primary_cleaner.state.floatbank8_a_air        5270 non-null float64\n",
            "primary_cleaner.state.floatbank8_a_level      5270 non-null float64\n",
            "primary_cleaner.state.floatbank8_b_air        5270 non-null float64\n",
            "primary_cleaner.state.floatbank8_b_level      5270 non-null float64\n",
            "primary_cleaner.state.floatbank8_c_air        5270 non-null float64\n",
            "primary_cleaner.state.floatbank8_c_level      5270 non-null float64\n",
            "primary_cleaner.state.floatbank8_d_air        5270 non-null float64\n",
            "primary_cleaner.state.floatbank8_d_level      5270 non-null float64\n",
            "rougher.input.feed_ag                         5270 non-null float64\n",
            "rougher.input.feed_pb                         5270 non-null float64\n",
            "rougher.input.feed_rate                       5270 non-null float64\n",
            "rougher.input.feed_size                       5270 non-null float64\n",
            "rougher.input.feed_sol                        5270 non-null float64\n",
            "rougher.input.feed_au                         5270 non-null float64\n",
            "rougher.input.floatbank10_sulfate             5270 non-null float64\n",
            "rougher.input.floatbank10_xanthate            5270 non-null float64\n",
            "rougher.input.floatbank11_sulfate             5270 non-null float64\n",
            "rougher.input.floatbank11_xanthate            5270 non-null float64\n",
            "rougher.state.floatbank10_a_air               5270 non-null float64\n",
            "rougher.state.floatbank10_a_level             5270 non-null float64\n",
            "rougher.state.floatbank10_b_air               5270 non-null float64\n",
            "rougher.state.floatbank10_b_level             5270 non-null float64\n",
            "rougher.state.floatbank10_c_air               5270 non-null float64\n",
            "rougher.state.floatbank10_c_level             5270 non-null float64\n",
            "rougher.state.floatbank10_d_air               5270 non-null float64\n",
            "rougher.state.floatbank10_d_level             5270 non-null float64\n",
            "rougher.state.floatbank10_e_air               5270 non-null float64\n",
            "rougher.state.floatbank10_e_level             5270 non-null float64\n",
            "rougher.state.floatbank10_f_air               5270 non-null float64\n",
            "rougher.state.floatbank10_f_level             5270 non-null float64\n",
            "secondary_cleaner.state.floatbank2_a_air      5270 non-null float64\n",
            "secondary_cleaner.state.floatbank2_a_level    5270 non-null float64\n",
            "secondary_cleaner.state.floatbank2_b_air      5270 non-null float64\n",
            "secondary_cleaner.state.floatbank2_b_level    5270 non-null float64\n",
            "secondary_cleaner.state.floatbank3_a_air      5270 non-null float64\n",
            "secondary_cleaner.state.floatbank3_a_level    5270 non-null float64\n",
            "secondary_cleaner.state.floatbank3_b_air      5270 non-null float64\n",
            "secondary_cleaner.state.floatbank3_b_level    5270 non-null float64\n",
            "secondary_cleaner.state.floatbank4_a_air      5270 non-null float64\n",
            "secondary_cleaner.state.floatbank4_a_level    5270 non-null float64\n",
            "secondary_cleaner.state.floatbank4_b_air      5270 non-null float64\n",
            "secondary_cleaner.state.floatbank4_b_level    5270 non-null float64\n",
            "secondary_cleaner.state.floatbank5_a_air      5270 non-null float64\n",
            "secondary_cleaner.state.floatbank5_a_level    5270 non-null float64\n",
            "secondary_cleaner.state.floatbank5_b_air      5270 non-null float64\n",
            "secondary_cleaner.state.floatbank5_b_level    5270 non-null float64\n",
            "secondary_cleaner.state.floatbank6_a_air      5270 non-null float64\n",
            "secondary_cleaner.state.floatbank6_a_level    5270 non-null float64\n",
            "rougher.output.recovery                       5270 non-null float64\n",
            "final.output.recovery                         5270 non-null float64\n",
            "final.output.concentrate_ag                   5270 non-null float64\n",
            "final.output.concentrate_pb                   5270 non-null float64\n",
            "final.output.concentrate_sol                  5270 non-null float64\n",
            "final.output.concentrate_au                   5270 non-null float64\n",
            "rougher.output.concentrate_ag                 5270 non-null float64\n",
            "rougher.output.concentrate_pb                 5270 non-null float64\n",
            "rougher.output.concentrate_sol                5270 non-null float64\n",
            "rougher.output.concentrate_au                 5270 non-null float64\n",
            "input_feed_tot                                5270 non-null float64\n",
            "rougher_output_tot                            5270 non-null float64\n",
            "final_output_tot                              5270 non-null float64\n",
            "dtypes: datetime64[ns](1), float64(65)\n",
            "memory usage: 2.7 MB\n",
            "None\n"
          ],
          "name": "stdout"
        }
      ]
    },
    {
      "cell_type": "markdown",
      "metadata": {
        "id": "c6mt-Ojof2aB"
      },
      "source": [
        "After removing outliers, test set observations reduced from 5856 to 5270 and Train set observations reduced from 16860 to 14550. Test set reduced by 10% while train set reduced by 14%."
      ]
    },
    {
      "cell_type": "markdown",
      "metadata": {
        "id": "Q2ztZE9pf2aC"
      },
      "source": [
        "3. Build the model"
      ]
    },
    {
      "cell_type": "markdown",
      "metadata": {
        "id": "nud-n-sqf2aC"
      },
      "source": [
        "3.1. Write a function to calculate the final sMAPE value."
      ]
    },
    {
      "cell_type": "code",
      "metadata": {
        "id": "mtHxSTraf2aC"
      },
      "source": [
        "def final_SMAPE(target, predicted):\n",
        "    return 100 / len(target) * np.sum(2 * np.abs(predicted - target) / (np.abs(target) + np.abs(predicted)))"
      ],
      "execution_count": null,
      "outputs": []
    },
    {
      "cell_type": "markdown",
      "metadata": {
        "id": "4rwXHS8vf2aD"
      },
      "source": [
        "3.2. Train different models. Evaluate them using cross-validation. Pick the best model and test it using the test sample. Provide findings."
      ]
    },
    {
      "cell_type": "code",
      "metadata": {
        "id": "p2IdqcvHf2aD"
      },
      "source": [
        "features_train=data_train_final.drop(['date','rougher.output.recovery','final.output.recovery'], axis=1)\n",
        "target_train_1=data_train_final['rougher.output.recovery']\n",
        "target_train_2=data_train_final['final.output.recovery']\n",
        "\n",
        "\n",
        "features_test=data_test_final.drop(['date','rougher.output.recovery','final.output.recovery'], axis=1)\n",
        "target_test_1= data_test_final['rougher.output.recovery']\n",
        "target_test_2= data_test_final['final.output.recovery']\n",
        "\n",
        "scaler=StandardScaler()\n",
        "features_train=scaler.fit_transform(features_train)\n",
        "new_scorer = make_scorer(final_SMAPE, greater_is_better=False)"
      ],
      "execution_count": null,
      "outputs": []
    },
    {
      "cell_type": "code",
      "metadata": {
        "id": "JtWKMVCff2aD",
        "outputId": "0fcd37c7-5e99-4500-f25c-23dc552ea784"
      },
      "source": [
        "#Decision Tree hypertuning\n",
        "print('decisionTree_Model_1')\n",
        "for depth in range(1,11):\n",
        "    model_dr_1 = DecisionTreeRegressor(random_state=12345, max_depth = depth)\n",
        "    dr_cross_val_scores_1 = cross_val_score(model_dr_1, features_train,target_train_1,scoring = new_scorer,cv=5).mean()    \n",
        "    print(\"max_depth =\", depth, \": \",\"Cross Val Score_1\",(dr_cross_val_scores_1*-1))\n",
        "\n",
        "print('decisionTree_Model_2')\n",
        "for depth in range(1,11):\n",
        "    model_dr_2 = DecisionTreeRegressor(random_state=12345, max_depth = depth)\n",
        "    dr_cross_val_scores_2 = cross_val_score(model_dr_2, features_train,target_train_2,scoring = new_scorer,cv=5).mean()\n",
        "    print(\"max_depth =\", depth, \": \",\"Cross Val Score_2\",(dr_cross_val_scores_2*-1))"
      ],
      "execution_count": null,
      "outputs": [
        {
          "output_type": "stream",
          "text": [
            "decisionTree_Model_1\n",
            "max_depth = 1 :  Cross Val Score_1 8.127788053858476\n",
            "max_depth = 2 :  Cross Val Score_1 7.940945687325781\n",
            "max_depth = 3 :  Cross Val Score_1 7.563075456747038\n",
            "max_depth = 4 :  Cross Val Score_1 7.729098186101327\n",
            "max_depth = 5 :  Cross Val Score_1 7.9539572061101165\n",
            "max_depth = 6 :  Cross Val Score_1 7.786017807137315\n",
            "max_depth = 7 :  Cross Val Score_1 8.278692246206754\n",
            "max_depth = 8 :  Cross Val Score_1 8.507310125856081\n",
            "max_depth = 9 :  Cross Val Score_1 9.04473078307517\n",
            "max_depth = 10 :  Cross Val Score_1 9.476045727862012\n",
            "decisionTree_Model_2\n",
            "max_depth = 1 :  Cross Val Score_2 10.546315814703046\n",
            "max_depth = 2 :  Cross Val Score_2 10.344888011467813\n",
            "max_depth = 3 :  Cross Val Score_2 10.21484908662821\n",
            "max_depth = 4 :  Cross Val Score_2 10.295770190492583\n",
            "max_depth = 5 :  Cross Val Score_2 10.432688894089889\n",
            "max_depth = 6 :  Cross Val Score_2 11.754310112474538\n",
            "max_depth = 7 :  Cross Val Score_2 10.823686574041876\n",
            "max_depth = 8 :  Cross Val Score_2 12.333413402783675\n",
            "max_depth = 9 :  Cross Val Score_2 12.158084224492587\n",
            "max_depth = 10 :  Cross Val Score_2 12.211970952930324\n"
          ],
          "name": "stdout"
        }
      ]
    },
    {
      "cell_type": "code",
      "metadata": {
        "id": "hIbKdJlAf2aD",
        "outputId": "149ff4e9-0e92-4fd5-9895-1f269b6a1fca"
      },
      "source": [
        "#Random Forest hypertuning\n",
        "\n",
        "print('RandomForest_1')\n",
        "for estimator in range(15,21):\n",
        "    model_rf_1 =RandomForestRegressor(n_estimators=estimator,random_state=12345)\n",
        "    rf_scores_1 = cross_val_score(model_rf_1, features_train,target_train_1,scoring = new_scorer,cv=5).mean()    \n",
        "    print(\"n_estimators =\", estimator, \": \",\"Cross Val Score_1\",(rf_scores_1*-1))\n",
        "\n",
        "print('RandomForest_2')\n",
        "for estimator in range(15,21):\n",
        "    model_rf_2 =RandomForestRegressor(n_estimators=estimator,random_state=12345)\n",
        "    rf_scores_2 = cross_val_score(model_rf_2, features_train,target_train_2,scoring = new_scorer,cv=5).mean()    \n",
        "    print(\"n_estimators =\", estimator, \": \",\"Cross Val Score_2\",(rf_scores_2*-1))"
      ],
      "execution_count": null,
      "outputs": [
        {
          "output_type": "stream",
          "text": [
            "RandomForest_1\n",
            "n_estimators = 15 :  Cross Val Score_1 8.457093025478937\n",
            "n_estimators = 16 :  Cross Val Score_1 8.472658569325343\n",
            "n_estimators = 17 :  Cross Val Score_1 8.44769076869101\n",
            "n_estimators = 18 :  Cross Val Score_1 8.491592367175048\n",
            "n_estimators = 19 :  Cross Val Score_1 8.468957862752731\n",
            "n_estimators = 20 :  Cross Val Score_1 8.525140090324097\n",
            "RandomForest_2\n",
            "n_estimators = 15 :  Cross Val Score_2 10.444883964986886\n",
            "n_estimators = 16 :  Cross Val Score_2 10.389461275627744\n",
            "n_estimators = 17 :  Cross Val Score_2 10.351942126145115\n",
            "n_estimators = 18 :  Cross Val Score_2 10.238141715069025\n",
            "n_estimators = 19 :  Cross Val Score_2 10.232507357084309\n",
            "n_estimators = 20 :  Cross Val Score_2 10.157016546922273\n"
          ],
          "name": "stdout"
        }
      ]
    },
    {
      "cell_type": "code",
      "metadata": {
        "id": "FnvExBySf2aE",
        "outputId": "74fc1aaf-df61-49ce-c8ab-3ddd16e01cdd"
      },
      "source": [
        "#Linear regression\n",
        "\n",
        "model_lr_1 = LinearRegression()\n",
        "lr_scores_1 = cross_val_score(model_lr_1, features_train,target_train_1,scoring = new_scorer,cv=5).mean()\n",
        "print(lr_scores_1*-1)\n",
        "\n",
        "model_lr_2 = LinearRegression()\n",
        "lr_scores_2 = cross_val_score(model_lr_2, features_train,target_train_2,scoring = new_scorer,cv=5).mean()\n",
        "print(lr_scores_2*-1)\n"
      ],
      "execution_count": null,
      "outputs": [
        {
          "output_type": "stream",
          "text": [
            "7.79552713445257\n",
            "11.795189022942727\n"
          ],
          "name": "stdout"
        }
      ]
    },
    {
      "cell_type": "markdown",
      "metadata": {
        "id": "sSnIpeflf2aE"
      },
      "source": [
        "Based on the model training and parameter hypertuning, decision Tree is selected as final model."
      ]
    },
    {
      "cell_type": "code",
      "metadata": {
        "id": "1rxvzsZPf2aE",
        "outputId": "3c62db7d-6c29-45f7-d26e-8f691e3ff05b"
      },
      "source": [
        "#testing the selected model with test dataset\n",
        "\n",
        "final_dr_1 = DecisionTreeRegressor(random_state=12345, max_depth = 3)\n",
        "final_dr_1.fit(features_train, target_train_1)\n",
        "predictions_test_1 = final_dr_1.predict(features_test)\n",
        "SMAPE_rougher=final_SMAPE(target_test_1,predictions_test_1)\n",
        "print(SMAPE_rougher)\n",
        "\n",
        "final_dr_2 = DecisionTreeRegressor(random_state=12345, max_depth = 1)\n",
        "final_dr_2.fit(features_train, target_train_2)\n",
        "predictions_test_2 = final_dr_2.predict(features_test)\n",
        "SMAPE_final= final_SMAPE(target_test_2,predictions_test_2)\n",
        "print(SMAPE_final)\n",
        "\n",
        "sMAPE=(0.25*SMAPE_rougher+0.75*SMAPE_final)\n",
        "print(sMAPE)"
      ],
      "execution_count": null,
      "outputs": [
        {
          "output_type": "stream",
          "text": [
            "5.581316321235855\n",
            "7.976209535894966\n",
            "7.377486232230188\n"
          ],
          "name": "stdout"
        }
      ]
    },
    {
      "cell_type": "markdown",
      "metadata": {
        "id": "pIr9Xd5tf2aE"
      },
      "source": [
        "new_scorer is defined using make_scorer and used in the cross_val_score."
      ]
    },
    {
      "cell_type": "markdown",
      "metadata": {
        "id": "rXIMMIxwf2aF"
      },
      "source": [
        "Baseline Model"
      ]
    },
    {
      "cell_type": "code",
      "metadata": {
        "id": "syG-Wdfgf2aF",
        "outputId": "d548687b-9c25-49f9-a6ee-3b6e927a44d5"
      },
      "source": [
        "from sklearn.dummy import DummyRegressor\n",
        "dummy_regr_1 = DummyRegressor(strategy=\"mean\")\n",
        "dummy_regr_1.fit(features_train, target_train_1)\n",
        "dummy_regr_1_pred = dummy_regr_1.predict(features_test)\n",
        "SMAPE_rougher_dummy_regr= final_SMAPE(target_test_1,dummy_regr_1_pred)\n",
        "print(SMAPE_rougher_dummy_regr)\n",
        "\n",
        "from sklearn.dummy import DummyRegressor\n",
        "dummy_regr_2 = DummyRegressor(strategy=\"mean\")\n",
        "dummy_regr_2.fit(features_train, target_train_2)\n",
        "dummy_regr_2_pred = dummy_regr_2.predict(features_test)\n",
        "SMAPE_final_dummy_regr= final_SMAPE(target_test_2,dummy_regr_2_pred)\n",
        "print(SMAPE_final_dummy_regr)\n",
        "\n",
        "final_SMAPE_dummy_regr=(0.25*SMAPE_rougher_dummy_regr+0.75*SMAPE_final_dummy_regr)\n",
        "print(final_SMAPE_dummy_regr)"
      ],
      "execution_count": null,
      "outputs": [
        {
          "output_type": "stream",
          "text": [
            "5.955561782089875\n",
            "8.860485576304232\n",
            "8.134254627750643\n"
          ],
          "name": "stdout"
        }
      ]
    },
    {
      "cell_type": "markdown",
      "metadata": {
        "id": "yhDmDzpXf2aF"
      },
      "source": [
        "The selected model has scores less than the baseline model, hence the selected model pass the sanity check.\n",
        "\n",
        "Hypertuning done and added a baseline model for sanity check."
      ]
    },
    {
      "cell_type": "code",
      "metadata": {
        "id": "mGTIZpq6f2aG"
      },
      "source": [
        ""
      ],
      "execution_count": null,
      "outputs": []
    }
  ]
}